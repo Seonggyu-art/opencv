{
 "cells": [
  {
   "cell_type": "markdown",
   "metadata": {},
   "source": [
    "## 01. 이미지 입출력"
   ]
  },
  {
   "cell_type": "code",
   "execution_count": 4,
   "metadata": {},
   "outputs": [],
   "source": [
    "import cv2\n",
    "dogpath = \"0102 images/dog.jpg\""
   ]
  },
  {
   "cell_type": "code",
   "execution_count": 8,
   "metadata": {},
   "outputs": [],
   "source": [
    "# img = cv2.imread(\"0102 images/cat.jpg\") # 경로는 정확하게 하기\n",
    "# # print(img)\n",
    "# cv2.imshow(\"Imamge\", img)\n",
    "# cv2.waitKey(0) # 무한대기. 키 입력을 기다려준다. 0은 무한대로 기다려준다는 의미\n",
    "# cv2.destroyAllWindows()  # 창닫기"
   ]
  },
  {
   "cell_type": "code",
   "execution_count": 5,
   "metadata": {},
   "outputs": [
    {
     "name": "stdout",
     "output_type": "stream",
     "text": [
      "-1\n"
     ]
    }
   ],
   "source": [
    "img = cv2.imread(\"0102 images/cat.jpg\") # 경로는 정확하게 하기\n",
    "cv2.imshow(\"Imamge\", img)\n",
    "key = cv2.waitKey(5000) # 키 입력이 없으면 마이너스를 반환하게 됨.\n",
    "print(key)\n",
    "cv2.destroyAllWindows()"
   ]
  },
  {
   "cell_type": "markdown",
   "metadata": {},
   "source": [
    "## 1-2. 이미지 불러오기 옵션\n",
    "- 'cv2.IMREAD_COLOR' : 이미지를 컬러로, 기본 옵션, 투명배경 무시\n",
    "- 'cv2.IMREAD_GRAYSCALE' : 이미지를 흑백으로\n",
    "- 'cv2.IMREAD_UNCHANGED' : 이미지 컬러, 투명배경 인식\n",
    "    - 이미지를 불러올 때 alpha값(투명도)을 같이 불러옴."
   ]
  },
  {
   "cell_type": "code",
   "execution_count": 5,
   "metadata": {},
   "outputs": [],
   "source": [
    "img_default = cv2.imread(dogpath, cv2.IMREAD_COLOR)\n",
    "img_gray = cv2.imread(dogpath, cv2.IMREAD_GRAYSCALE)\n",
    "img_unchanged = cv2.imread(dogpath, cv2.IMREAD_UNCHANGED)\n",
    "\n",
    "cv2.imshow(\"Image default\", img_default)\n",
    "cv2.imshow(\"Image gray\", img_gray)\n",
    "cv2.imshow(\"Image unchanged\", img_unchanged)\n",
    "\n",
    "cv2.waitKey(4000)\n",
    "cv2.destroyAllWindows()"
   ]
  },
  {
   "cell_type": "markdown",
   "metadata": {},
   "source": [
    "### 1-3. 이미지 shape"
   ]
  },
  {
   "cell_type": "code",
   "execution_count": 18,
   "metadata": {},
   "outputs": [],
   "source": [
    "import cv2\n",
    "dog_path =\"0102 images/dog.jpg\"\n",
    "dog_png_path = \"0102 images/dog.png\""
   ]
  },
  {
   "cell_type": "code",
   "execution_count": 15,
   "metadata": {},
   "outputs": [
    {
     "name": "stdout",
     "output_type": "stream",
     "text": [
      "360 360 4\n"
     ]
    }
   ],
   "source": [
    "img_default = cv2.imread(dog_png_path, cv2.IMREAD_COLOR)\n",
    "img_gray = cv2.imread(dog_png_path, cv2.IMREAD_GRAYSCALE)\n",
    "img_unchanged = cv2.imread(dog_png_path, cv2.IMREAD_UNCHANGED)\n",
    "\n",
    "# RGB + Alpha까지 4개의 채널을 불러옴\n",
    "# height, weight, channel = img_default.shape\n",
    "# 채널은 rgb의 색깔을 의미함.\n",
    "\n",
    "height, width, channel = img_unchanged.shape\n",
    "print(height, width, channel)"
   ]
  },
  {
   "cell_type": "code",
   "execution_count": 14,
   "metadata": {},
   "outputs": [
    {
     "data": {
      "text/plain": [
       "(360, 360)"
      ]
     },
     "execution_count": 14,
     "metadata": {},
     "output_type": "execute_result"
    }
   ],
   "source": [
    "img_default = cv2.imread(dog_png_path, cv2.IMREAD_COLOR)\n",
    "img_gray = cv2.imread(dog_png_path, cv2.IMREAD_GRAYSCALE)\n",
    "img_unchanged = cv2.imread(dog_png_path, cv2.IMREAD_UNCHANGED)\n",
    "\n",
    "img_gray.shape # (가로 세로 픽셀사이즈를 알 수 있음)\n",
    "# 이런식으로 적으면 위에 코드와 달리 4(채널)가 없어짐 "
   ]
  },
  {
   "cell_type": "code",
   "execution_count": 21,
   "metadata": {},
   "outputs": [
    {
     "data": {
      "text/plain": [
       "113"
      ]
     },
     "execution_count": 21,
     "metadata": {},
     "output_type": "execute_result"
    }
   ],
   "source": [
    "img = cv2.imread(dog_path)\n",
    "cv2.imshow(\"img\",img)\n",
    "key = cv2.waitKey(0)\n",
    "if key == ord(\"q\"):\n",
    "    cv2.destroyAllWindows()\n",
    "\n",
    "ord(\"q\")"
   ]
  },
  {
   "cell_type": "markdown",
   "metadata": {},
   "source": [
    "## 1-4 이미지 쓰기\n",
    "- 불러온 이미지를 파일로 생성"
   ]
  },
  {
   "cell_type": "code",
   "execution_count": 23,
   "metadata": {},
   "outputs": [
    {
     "data": {
      "text/plain": [
       "True"
      ]
     },
     "execution_count": 23,
     "metadata": {},
     "output_type": "execute_result"
    }
   ],
   "source": [
    "# 새로운 파일을 생성\n",
    "img = cv2.imread(dog_path)\n",
    "cv2.imwrite(\"0102 output/new_dog.jpg\", img) # 파일 이름, 경로를 먼저 써주고 쓸 파일을 적어주기\n"
   ]
  },
  {
   "cell_type": "code",
   "execution_count": 1,
   "metadata": {},
   "outputs": [
    {
     "ename": "NameError",
     "evalue": "name 'cv2' is not defined",
     "output_type": "error",
     "traceback": [
      "\u001b[1;31m---------------------------------------------------------------------------\u001b[0m",
      "\u001b[1;31mNameError\u001b[0m                                 Traceback (most recent call last)",
      "Cell \u001b[1;32mIn[1], line 2\u001b[0m\n\u001b[0;32m      1\u001b[0m \u001b[38;5;66;03m# 컬러 이미지를 흑백으로 쓰기기\u001b[39;00m\n\u001b[1;32m----> 2\u001b[0m img \u001b[38;5;241m=\u001b[39m \u001b[43mcv2\u001b[49m\u001b[38;5;241m.\u001b[39mimread(dog_path, cv2\u001b[38;5;241m.\u001b[39mIMREAD_GRAYSCALE)\n\u001b[0;32m      3\u001b[0m cv2\u001b[38;5;241m.\u001b[39mimwrite(\u001b[38;5;124m\"\u001b[39m\u001b[38;5;124m0102 output/gray_dog.jpg\u001b[39m\u001b[38;5;124m\"\u001b[39m, img)\n",
      "\u001b[1;31mNameError\u001b[0m: name 'cv2' is not defined"
     ]
    }
   ],
   "source": [
    "# 컬러 이미지를 흑백으로 쓰기기\n",
    "img = cv2.imread(dog_path, cv2.IMREAD_GRAYSCALE)\n",
    "cv2.imwrite(\"0102 output/gray_dog.jpg\", img)\n"
   ]
  },
  {
   "cell_type": "code",
   "execution_count": null,
   "metadata": {},
   "outputs": [],
   "source": []
  }
 ],
 "metadata": {
  "kernelspec": {
   "display_name": "my_cv",
   "language": "python",
   "name": "python3"
  },
  "language_info": {
   "codemirror_mode": {
    "name": "ipython",
    "version": 3
   },
   "file_extension": ".py",
   "mimetype": "text/x-python",
   "name": "python",
   "nbconvert_exporter": "python",
   "pygments_lexer": "ipython3",
   "version": "3.13.1"
  }
 },
 "nbformat": 4,
 "nbformat_minor": 2
}
