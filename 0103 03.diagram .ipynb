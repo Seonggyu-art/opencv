{
 "cells": [
  {
   "cell_type": "markdown",
   "metadata": {},
   "source": [
    "## 03. 도형 그리기"
   ]
  },
  {
   "cell_type": "code",
   "execution_count": 1,
   "metadata": {},
   "outputs": [],
   "source": [
    "import cv2\n",
    "import numpy as np"
   ]
  },
  {
   "cell_type": "markdown",
   "metadata": {},
   "source": [
    "## 3-1 빈 화면 만들기\n",
    "### int : -128 ~ 127 vs unit 0 ~ 255"
   ]
  },
  {
   "cell_type": "code",
   "execution_count": 7,
   "metadata": {},
   "outputs": [],
   "source": [
    "img = np.zeros((460,640,3),dtype=np.uint8)   # 세로 가로\n",
    "# img[:] =(255,255,255)\n",
    "cv2.imshow(\"blank\",img)\n",
    "cv2.waitKey(0)\n",
    "cv2.destroyAllWindows()"
   ]
  },
  {
   "cell_type": "markdown",
   "metadata": {},
   "source": [
    "## 3-2. 일부 영역 색칠"
   ]
  },
  {
   "cell_type": "code",
   "execution_count": 28,
   "metadata": {},
   "outputs": [],
   "source": [
    "img = np.zeros((460,640,3),dtype=np.uint8)\n",
    "\n",
    "# [세로영역(행), 가로영역(열)], y(시작부터 끝까지), x(시작부터 끝까지) 뜻\n",
    "img[0:300,100:200] = (200,252,125) # B, G, R  값을 변경해준다. 색깔이 숫자로 되어 있음.\n",
    "\n",
    "cv2.imshow(\"blank\",img)\n",
    "cv2.waitKey(0)\n",
    "cv2.destroyAllWindows()"
   ]
  },
  {
   "cell_type": "markdown",
   "metadata": {},
   "source": [
    "## 3-3. 선그리기"
   ]
  },
  {
   "cell_type": "code",
   "execution_count": 34,
   "metadata": {},
   "outputs": [],
   "source": [
    "img = np.zeros((460, 640, 3), dtype=np.uint8)\n",
    "COLOR = (255, 255, 255) # BGR\n",
    "THICKNESS = 3  # 선의 굵기\n",
    "\n",
    "\n",
    "# cv2.line(이미지, 시작(x,y), 끝(x,y), 색상, 두께) - 왼쪽 위 상단에서 x,y\n",
    "cv2.line(img, (50,100), (400,50), COLOR, THICKNESS, cv2.LINE_4)\n",
    "cv2.line(img, (50,200), (400,150), COLOR, THICKNESS, cv2.LINE_8)\n",
    "cv2.line(img, (50,300), (400,250), COLOR, THICKNESS, cv2.LINE_AA)\n",
    "\n",
    "cv2.imshow(\"img\", img)\n",
    "cv2.waitKey(0)\n",
    "cv2.destroyAllWindows()\n"
   ]
  },
  {
   "cell_type": "markdown",
   "metadata": {},
   "source": [
    "## 3-4. 원 그리기"
   ]
  },
  {
   "cell_type": "code",
   "execution_count": 32,
   "metadata": {},
   "outputs": [],
   "source": [
    "img = np.zeros((460,648,3),dtype=np.uint8)\n",
    "\n",
    "RADIUS = 50   # 원의 반지름\n",
    "COLOR = (0,255,255) # BGR\n",
    "THICKNESS = 10\n",
    "\n",
    "# cv2.circle(이미지, 중심점, 반지름, 색상, 두께, 선 스타일) - 왼쪽 위 상단에서 x,y\n",
    "# 속이 비어있는 원\n",
    "cv2.circle(img,(200,300),RADIUS,COLOR,THICKNESS,cv2.LINE_AA)\n",
    "\n",
    "# 꽉 찬 원\n",
    "cv2.circle(img,(400,300),RADIUS,COLOR,cv2.FILLED,cv2.LINE_AA)\n",
    "# cv2.FILLED로 하면 도형의 속을 채워줌.\n",
    "\n",
    "cv2.imshow(\"circle\",img)  # 창위에 하고 싶은 제목\n",
    "cv2.waitKey(0)\n",
    "cv2.destroyAllWindows()\n"
   ]
  },
  {
   "cell_type": "markdown",
   "metadata": {},
   "source": [
    "## 3-5. 타원 그리기"
   ]
  },
  {
   "cell_type": "code",
   "execution_count": 52,
   "metadata": {},
   "outputs": [],
   "source": [
    "img = np.zeros((460,640,3),dtype=np.uint8) # y, x\n",
    "# cv2.ellipse(이미지, 중심, 반경크기 설정, 회전각도, 호의 시작 각도, \n",
    "# 호의 끝 각도, 색깔, 두께) - 왼쪽 위 상단이 x,y\n",
    "cv2.ellipse(img,(320,230),(50,40),45,0,360,(0,0,255),10,cv2.LINE_AA)\n",
    "\n",
    "# • center : 타원의 중심\n",
    "# • axes : 타원의 반경 크기 설정 , (왼쪽 상단과 우측 하단, 왼쪽 하단과 우측 상단단)\n",
    "# • angle : 타원 회전 각도\n",
    "# • startAngle : 타원 호의 시작 각도\n",
    "# • endAngle : 타원 호의 끝 각도\n",
    "\n",
    "cv2.imshow(\"ellipse\",img)\n",
    "cv2.waitKey(0)\n",
    "cv2.destroyAllWindows()"
   ]
  },
  {
   "cell_type": "markdown",
   "metadata": {},
   "source": [
    "## 3-6. 사각형 그리기"
   ]
  },
  {
   "cell_type": "code",
   "execution_count": 59,
   "metadata": {},
   "outputs": [],
   "source": [
    "img = np.zeros((460,648,3),dtype=np.uint8)\n",
    "\n",
    "# 비어 있는 사각형\n",
    "cv2.rectangle(img,(100,200),(300,400),(255,255,0),10, cv2.LINE_AA)\n",
    "# 꽉 찬 사각형\n",
    "cv2.rectangle(img,(200,50),(450,250),(255,255,0),cv2.FILLED, cv2.LINE_AA)\n",
    "\n",
    "# • img: 이미지\n",
    "# • pt1 : 사각형 첫 번째 지점(x,y)\n",
    "# • pt2 : pt1의 반대편 꼭지점(x,y)\n",
    "# • color : 선의 색\n",
    "# • thickness : 선의 두께, cv2.FILLED로 채우기 가능\n",
    "# • lineType : 라인의 타입\n",
    "\n",
    "cv2.imshow(\"rectangle\",img)\n",
    "cv2.waitKey(0)\n",
    "cv2.destroyAllWindows()"
   ]
  },
  {
   "cell_type": "markdown",
   "metadata": {},
   "source": [
    "## 3-7 다각형 그리기(선)"
   ]
  },
  {
   "cell_type": "code",
   "execution_count": 68,
   "metadata": {},
   "outputs": [],
   "source": [
    "img = np.zeros((460,648,3),dtype=np.uint8)\n",
    "\n",
    "pts = np.array([[100,100],[200,100],[100,200]])\n",
    "\n",
    "# cv2.polylines(img, pts, isClosed, color[, thickness[, lineType=LINE_8[, shift=0]]])\n",
    "\n",
    "# • pts: 다각형 선분들의 배열\n",
    "# • isClosed : 닫힌 도형인지 아닌지 여부\n",
    "cv2.polylines(img,[pts],True,(255,0,255),5)\n",
    "cv2.imshow(\"polylines\",img)\n",
    "cv2.waitKey(0)\n",
    "cv2.destroyAllWindows()"
   ]
  },
  {
   "cell_type": "markdown",
   "metadata": {},
   "source": [
    "## 3-7 다각형 채우기\n",
    "### - fillPoly 다각형 채우는 함수"
   ]
  },
  {
   "cell_type": "code",
   "execution_count": 69,
   "metadata": {},
   "outputs": [],
   "source": [
    "img = np.zeros((460,648,3),dtype=np.uint8)\n",
    "\n",
    "pts = np.array([[100,100],[200,100],[100,200]])\n",
    "\n",
    "cv2.fillPoly(img,[pts],(255,0,255))\n",
    "cv2.imshow(\"polylines\",img)\n",
    "cv2.waitKey(0)\n",
    "cv2.destroyAllWindows()"
   ]
  },
  {
   "cell_type": "markdown",
   "metadata": {},
   "source": [
    "## 실습 1\n",
    "도형 그려보기\n",
    "1. 640x480 사이즈의 빈 화면에\n",
    "2. 선, 원, 타원, 사각형(선/채우기 각각) 화면에 그려보기\n",
    "3. 도형의 색상을 각각 다르게 설정하기기"
   ]
  },
  {
   "cell_type": "code",
   "execution_count": 70,
   "metadata": {},
   "outputs": [],
   "source": [
    "import cv2\n",
    "import numpy as np\n",
    "img = np.zeros((480, 640, 3), dtype=np.uint8)\n",
    "pts = np.array([[100,100],[200,100],[300,200]])\n",
    "pts2 = np.array([[100,100],[200,100],[300,500]])\n",
    "# 선\n",
    "cv2.line(img, (50, 50), (590, 50), (0, 255, 255))\n",
    "# 원\n",
    "cv2.circle(img, (70, 150), 50, (255, 0, 255))\n",
    "#타원\n",
    "cv2.ellipse(img,(200, 250),(100,50),0,0,360,(255, 200, 0))\n",
    "# 사각형\n",
    "cv2.rectangle(img, (110, 350), (200, 400), (255, 255, 0))\n",
    "# 다각형\n",
    "cv2.polylines(img,[pts],True,(255,200,255))\n",
    "cv2.fillPoly(img,[pts2],(155,100,155))\n",
    "cv2.imshow('Shapes', img)\n",
    "\n",
    "cv2.waitKey(0)\n",
    "cv2.destroyAllWindows()\n"
   ]
  }
 ],
 "metadata": {
  "kernelspec": {
   "display_name": "my_cv",
   "language": "python",
   "name": "python3"
  },
  "language_info": {
   "codemirror_mode": {
    "name": "ipython",
    "version": 3
   },
   "file_extension": ".py",
   "mimetype": "text/x-python",
   "name": "python",
   "nbconvert_exporter": "python",
   "pygments_lexer": "ipython3",
   "version": "3.13.1"
  }
 },
 "nbformat": 4,
 "nbformat_minor": 2
}
