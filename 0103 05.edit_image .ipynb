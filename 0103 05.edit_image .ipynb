{
 "cells": [
  {
   "cell_type": "markdown",
   "metadata": {},
   "source": [
    "## 05. 이미지 조정"
   ]
  },
  {
   "cell_type": "code",
   "execution_count": 2,
   "metadata": {},
   "outputs": [],
   "source": [
    "import cv2\n",
    "import numpy as np"
   ]
  },
  {
   "cell_type": "code",
   "execution_count": 2,
   "metadata": {},
   "outputs": [],
   "source": [
    "DOG_Path = \"images/dog.jpg\"\n",
    "DOG_Path2 = \"images/dog.png\"\n",
    "DOG_VIDEO_PATH = \"videos/dog.mp4\"\n",
    "winter = \"images/winter.jpg\""
   ]
  },
  {
   "cell_type": "markdown",
   "metadata": {},
   "source": [
    "### 5-1. 이미지 복사"
   ]
  },
  {
   "cell_type": "code",
   "execution_count": null,
   "metadata": {},
   "outputs": [],
   "source": [
    "import cv2\n",
    "\n",
    "# 이미지 파일을 읽어 OpenCV 이미지로 로드 (DOG_Path는 이미지 파일 경로)\n",
    "img = cv2.imread(DOG_Path)\n",
    "\n",
    "# 얕은 복사를 수행 (img와 shallow_copy는 동일한 메모리 주소를 공유)\n",
    "shallow_copy = img\n",
    "\n",
    "# 깊은 복사를 수행 (img의 데이터를 복사하여 독립적인 객체 deep_copy 생성)\n",
    "deep_copy = img.copy()\n",
    "\n",
    "# shallow_copy를 Grayscale(흑백)로 변환\n",
    "# cv2.cvtColor는 새로운 이미지를 반환하므로 shallow_copy는 실제로 변경되지 않음\n",
    "gray = cv2.cvtColor(shallow_copy, cv2.COLOR_BGR2GRAY)\n",
    "\n",
    "# 원본 이미지를 \"original\" 창에 표시\n",
    "cv2.imshow(\"original\", img)\n",
    "\n",
    "# 흑백으로 변환된 이미지를 \"shallow\" 창에 표시\n",
    "cv2.imshow(\"shallow\", gray)\n",
    "\n",
    "# 키 입력 대기 (사용자가 아무 키나 누를 때까지 프로그램 정지)\n",
    "cv2.waitKey(0)\n",
    "\n",
    "# 모든 OpenCV 창을 닫음\n",
    "cv2.destroyAllWindows()\n"
   ]
  },
  {
   "cell_type": "markdown",
   "metadata": {},
   "source": [
    "### 5-2. 리사이즈"
   ]
  },
  {
   "cell_type": "code",
   "execution_count": 10,
   "metadata": {},
   "outputs": [],
   "source": [
    "img = cv2.imread(DOG_Path)\n",
    "# 고정 크기를 입력해서 조정\n",
    "dst = cv2.resize(img,(320,213))\n",
    "\n",
    "\n",
    "# 비율로 조정\n",
    "dst = cv2.resize(img,None,fx=1.5,fy=1.5,interpolation=cv2.INTER_CUBIC)\n",
    "\n",
    "\n",
    "cv2.imshow(\"resize\",dst)\n",
    "cv2.waitKey(0)\n",
    "cv2.destroyAllWindows()\n",
    "\n"
   ]
  },
  {
   "cell_type": "markdown",
   "metadata": {},
   "source": [
    "## 실습2. 영상 리사이즈"
   ]
  },
  {
   "cell_type": "code",
   "execution_count": 16,
   "metadata": {},
   "outputs": [
    {
     "name": "stdout",
     "output_type": "stream",
     "text": [
      "25.0\n"
     ]
    }
   ],
   "source": [
    "cap = cv2.VideoCapture(DOG_VIDEO_PATH)\n",
    "fps = cap.get(cv2.CAP_PROP_FPS) # 1초당 프레임 개수\n",
    "print(fps)\n",
    "\n",
    "while cap.isOpened():\n",
    "    ret,frame = cap.read()\n",
    "\n",
    "    if not ret:\n",
    "        break\n",
    "    resized_frame = cv2.resize(frame,None,fx=0.1,fy=0.1,interpolation=cv2.INTER_CUBIC)\n",
    "\n",
    "    cv2.imshow(\"Video\", resized_frame)\n",
    "    \n",
    "    if cv2.waitKey(int(1000/fps)) == ord(\"q\"):  # 1초에 프레임이 몇개가 있는지 프레임 하나당 \n",
    "        break\n",
    "cap.release()\n",
    "cv2.destroyAllWindows()"
   ]
  },
  {
   "cell_type": "code",
   "execution_count": 17,
   "metadata": {},
   "outputs": [],
   "source": [
    "import cv2\n",
    "\n",
    "# 이미지 파일을 읽어 OpenCV 이미지로 로드 (DOG_Path는 이미지 파일 경로)\n",
    "img = cv2.imread(DOG_Path)\n",
    "\n",
    "# 이미지 크기를 확대 (가로, 세로 각각 두 배로 증가)\n",
    "size_up = cv2.pyrUp(img)\n",
    "\n",
    "# 이미지 크기를 축소 (가로, 세로 각각 절반으로 감소)\n",
    "size_down = cv2.pyrDown(img)\n",
    "\n",
    "# 확대된 이미지를 \"pyrUp\" 창에 표시\n",
    "cv2.imshow(\"pyrUp\", size_up)\n",
    "\n",
    "# 축소된 이미지를 \"pyrDown\" 창에 표시\n",
    "cv2.imshow(\"pyrDown\", size_down)\n",
    "\n",
    "# 키 입력 대기 (사용자가 아무 키나 누를 때까지 프로그램 정지)\n",
    "cv2.waitKey(0)\n",
    "\n",
    "# 모든 OpenCV 창을 닫음\n",
    "cv2.destroyAllWindows()\n"
   ]
  },
  {
   "cell_type": "markdown",
   "metadata": {},
   "source": [
    "### 5-3 이미지 자르기"
   ]
  },
  {
   "cell_type": "code",
   "execution_count": 18,
   "metadata": {},
   "outputs": [],
   "source": [
    "import cv2\n",
    "\n",
    "# 이미지 파일을 읽어 OpenCV 이미지로 로드 (DOG_Path는 이미지 파일 경로)\n",
    "img = cv2.imread(DOG_Path)\n",
    "\n",
    "# 이미지에서 특정 영역을 잘라냄 (crop)\n",
    "# - 세로 범위: 100에서 200 (행 기준, y축)\n",
    "# - 가로 범위: 100에서 400 (열 기준, x축)\n",
    "cropped = img[100:200, 100:400]\n",
    "\n",
    "# 원본 이미지를 \"Dog\" 창에 표시\n",
    "cv2.imshow(\"Dog\", img)\n",
    "\n",
    "# 잘라낸 이미지를 \"Dog_cropped\" 창에 표시\n",
    "cv2.imshow(\"Dog_cropped\", cropped)\n",
    "\n",
    "# 키 입력 대기 (사용자가 아무 키나 누를 때까지 프로그램 정지)\n",
    "cv2.waitKey(0)\n",
    "\n",
    "# 모든 OpenCV 창을 닫음\n",
    "cv2.destroyAllWindows()\n"
   ]
  },
  {
   "cell_type": "markdown",
   "metadata": {},
   "source": [
    "## 5-4. 이미지 대칭\n",
    "- flipcode > 0 : 좌우반전(y축 반전)\n",
    "- flipcode == 0 : 상하 반전(x축 반전)\n",
    "- flipcode < 0 : 상하좌우 반전"
   ]
  },
  {
   "cell_type": "code",
   "execution_count": 31,
   "metadata": {},
   "outputs": [],
   "source": [
    "import cv2\n",
    "\n",
    "# 이미지 파일을 읽어 OpenCV 이미지로 로드 (DOG_Path는 이미지 파일 경로)\n",
    "img = cv2.imread(DOG_Path)\n",
    "\n",
    "# 이미지 뒤집기 (cv2.flip)\n",
    "# - `-1`: x축과 y축 모두 기준으로 이미지를 뒤집음 (상하좌우 반전)\n",
    "dst_1 = cv2.flip(img, -1)\n",
    "\n",
    "# - `0`: x축 기준으로 이미지를 뒤집음 (상하 반전)\n",
    "dst_2 = cv2.flip(img, 0)\n",
    "\n",
    "# - `1`: y축 기준으로 이미지를 뒤집음 (좌우 반전)\n",
    "dst_3 = cv2.flip(img, 1)\n",
    "\n",
    "# 원본 이미지를 \"img\" 창에 표시\n",
    "cv2.imshow(\"img\", img)\n",
    "\n",
    "# 상하좌우 반전된 이미지를 \"dst_1\" 창에 표시\n",
    "cv2.imshow(\"dst_1\", dst_1)\n",
    "\n",
    "# 상하 반전된 이미지를 \"dst_2\" 창에 표시\n",
    "cv2.imshow(\"dst_2\", dst_2)\n",
    "\n",
    "# 좌우 반전된 이미지를 \"dst_3\" 창에 표시\n",
    "cv2.imshow(\"dst_3\", dst_3)\n",
    "\n",
    "# 키 입력 대기 (사용자가 아무 키나 누를 때까지 프로그램 정지)\n",
    "cv2.waitKey(0)\n",
    "\n",
    "# 모든 OpenCV 창을 닫음\n",
    "cv2.destroyAllWindows()"
   ]
  },
  {
   "cell_type": "markdown",
   "metadata": {},
   "source": [
    "### 실습3. 이미지 조정"
   ]
  },
  {
   "cell_type": "code",
   "execution_count": 6,
   "metadata": {},
   "outputs": [],
   "source": [
    "import cv2\n",
    "\n",
    "# 이미지 파일을 읽어 OpenCV 이미지로 로드 (winter는 이미지 파일 경로)\n",
    "img = cv2.imread(winter)\n",
    "\n",
    "# 이미지를 크기 (250x268)로 변경 (resize)\n",
    "resize_winter = cv2.resize(img, (250, 268))\n",
    "\n",
    "# 크기가 변경된 이미지를 좌우 반전 (flip)\n",
    "# flipCode=1: y축(좌우) 기준으로 반전\n",
    "flipped_resize_winter = cv2.flip(resize_winter, 1)\n",
    "\n",
    "# 원본 이미지의 높이(height), 너비(width), 채널 수(channel)를 가져옴\n",
    "height, width, channel = img.shape\n",
    "\n",
    "# 반전된 이미지를 삽입할 위치 계산\n",
    "# - y축 시작 위치: 원본 높이에서 반전 이미지 높이를 뺌\n",
    "start_y = height - flipped_resize_winter.shape[0]\n",
    "\n",
    "# - x축 시작 위치: 원본 너비에서 반전 이미지 너비를 뺌\n",
    "start_x = width - flipped_resize_winter.shape[1]\n",
    "\n",
    "# 원본 이미지의 해당 위치에 반전된 이미지를 삽입\n",
    "# - `start_y:`: y축의 시작부터 끝까지\n",
    "# - `start_x:`: x축의 시작부터 끝까지\n",
    "img[start_y:, start_x:] = flipped_resize_winter\n",
    "\n",
    "# 결과 이미지를 \"Result\" 창에 표시\n",
    "cv2.imshow(\"Result\", img)\n",
    "\n",
    "# 키 입력 대기 (사용자가 아무 키나 누를 때까지 프로그램 정지)\n",
    "cv2.waitKey(0)\n",
    "\n",
    "# 모든 OpenCV 창을 닫음\n",
    "cv2.destroyAllWindows()"
   ]
  },
  {
   "cell_type": "code",
   "execution_count": 7,
   "metadata": {},
   "outputs": [],
   "source": [
    "import cv2\n",
    "\n",
    "# 이미지 파일을 읽어 OpenCV 이미지로 로드 (winter는 이미지 파일 경로)\n",
    "img = cv2.imread(winter)\n",
    "\n",
    "# 이미지 크기를 축소 (가로와 세로 각각 절반 크기로 줄임)\n",
    "dst = cv2.pyrDown(img)\n",
    "\n",
    "# 축소된 이미지를 좌우 반전 (y축 기준 반전)\n",
    "dst = cv2.flip(dst, 1)\n",
    "\n",
    "# 원본 이미지의 높이(iheight), 너비(iwidth), 채널 수(ichannel)를 가져옴\n",
    "iheight, iwidth, ichannel = img.shape\n",
    "\n",
    "# 축소된 이미지의 높이(dheight), 너비(dwidth), 채널 수(dchannel)를 가져옴\n",
    "dheight, dwidth, dchannel = dst.shape\n",
    "\n",
    "# 원본 이미지의 우하단에 축소 및 반전된 이미지를 삽입\n",
    "# - y축 범위: (iheight - dheight)에서 iheight까지\n",
    "# - x축 범위: (iwidth - dwidth)에서 iwidth까지\n",
    "img[iheight-dheight:iheight, iwidth-dwidth:iwidth] = dst\n",
    "\n",
    "# 결과 이미지를 \"Result\" 창에 표시\n",
    "cv2.imshow(\"Result\", img)\n",
    "\n",
    "# 키 입력 대기 (사용자가 아무 키나 누를 때까지 프로그램 정지)\n",
    "cv2.waitKey(0)\n",
    "\n",
    "# 모든 OpenCV 창을 닫음\n",
    "cv2.destroyAllWindows()"
   ]
  },
  {
   "cell_type": "code",
   "execution_count": 7,
   "metadata": {},
   "outputs": [],
   "source": [
    "# 디지털 이미지의 BGR 채널 분리를 수행\n",
    "img = cv2.imread(winter)\n",
    "blue,green,red = cv2.split(img)\n",
    "cv2.imshow(\"Blue\",blue)\n",
    "cv2.imshow(\"Green\",green)\n",
    "cv2.imshow(\"Red\",red)\n",
    "cv2.waitKey(0)\n",
    "cv2.destroyAllWindows()"
   ]
  },
  {
   "cell_type": "markdown",
   "metadata": {},
   "source": [
    "## 5-4. 이미지 색상 변경"
   ]
  },
  {
   "cell_type": "code",
   "execution_count": 8,
   "metadata": {},
   "outputs": [],
   "source": [
    "img = cv2.imread(winter)\n",
    "gray = cv2.cvtColor(img,cv2.COLOR_BGR2GRAY)\n",
    "rgb = cv2.cvtColor(img,cv2.COLOR_BGR2RGB)\n",
    "\n",
    "cv2.imshow(\"gray\",gray)\n",
    "cv2.imshow(\"rgb\",rgb)\n",
    "\n",
    "cv2.waitKey(0)\n",
    "cv2.destroyAllWindows()"
   ]
  },
  {
   "cell_type": "markdown",
   "metadata": {},
   "source": [
    "## 실습 4"
   ]
  },
  {
   "cell_type": "code",
   "execution_count": 11,
   "metadata": {},
   "outputs": [],
   "source": [
    "# 반전된 이미지는 밝은 영역이 어둡게, 어두운 영역이 밝게 보이는 효과\n",
    "img = cv2.imread(winter,cv2.IMREAD_GRAYSCALE)\n",
    "\n",
    "inverted_image = 255 - img \n",
    "\n",
    "cv2.imshow(\"Original Image\", img)\n",
    "cv2.imshow(\"Inverted Image\", inverted_image)\n",
    "cv2.waitKey(0)\n",
    "cv2.destroyAllWindows()\n"
   ]
  },
  {
   "cell_type": "markdown",
   "metadata": {},
   "source": [
    "## 5-5. 이미지 흐리기(가우시안 블러)"
   ]
  },
  {
   "cell_type": "code",
   "execution_count": 15,
   "metadata": {},
   "outputs": [],
   "source": [
    "img = cv2.imread(winter)\n",
    "\n",
    "# 커널을 사용하는 방식\n",
    "# (3,3) (5,5) (7,7) 을 주로 사용\n",
    "kernel_3 = cv2.GaussianBlur(img,(3,3),0)\n",
    "kernel_5 = cv2.GaussianBlur(img,(5,5),0)\n",
    "kernel_7 = cv2.GaussianBlur(img,(7,7),0)\n",
    "\n",
    "cv2.imshow(\"kernel_3\",kernel_3)\n",
    "cv2.imshow(\"kernel_5\",kernel_5)\n",
    "cv2.imshow(\"kernel_7\",kernel_7)\n",
    "cv2.waitKey(0)\n",
    "cv2.destroyAllWindows()\n"
   ]
  },
  {
   "cell_type": "code",
   "execution_count": 16,
   "metadata": {},
   "outputs": [],
   "source": [
    "img = cv2.imread(winter)\n",
    "\n",
    "# 표준편차를 사용하는 방식\n",
    "# (3,3) (5,5) (7,7) 을 주로 사용\n",
    "sigma_1 = cv2.GaussianBlur(img,(0,0),1)\n",
    "sigma_2 = cv2.GaussianBlur(img,(0,0),2)\n",
    "sigma_3 = cv2.GaussianBlur(img,(0,0),3)\n",
    "\n",
    "cv2.imshow(\"sigma_1\",sigma_1)\n",
    "cv2.imshow(\"sigma_2\",sigma_2)\n",
    "cv2.imshow(\"sigma_3\",sigma_3)\n",
    "cv2.waitKey(0)\n",
    "cv2.destroyAllWindows()\n"
   ]
  },
  {
   "cell_type": "markdown",
   "metadata": {},
   "source": [
    "### 5-6. 이미지 회전\n",
    "- cv2.ROTATE_90_CLOCKWISE : 시계방향 90도 회전\n",
    "- cv2.ROTATE_180 : 180도 회전\n",
    "- cv2.ROTATE_90_COUNTERCLOCKWISE : 반시계방향 90도 회전"
   ]
  },
  {
   "cell_type": "code",
   "execution_count": 18,
   "metadata": {},
   "outputs": [],
   "source": [
    "img = cv2.imread(winter)\n",
    "dst_90 = cv2.rotate(img,cv2.ROTATE_90_CLOCKWISE)\n",
    "dst_180 = cv2.rotate(img,cv2.ROTATE_180)\n",
    "dst_90_counter = cv2.rotate(img,cv2.ROTATE_90_COUNTERCLOCKWISE)\n",
    "cv2.imshow(\"90\",dst_90)\n",
    "cv2.imshow(\"180\",dst_180)\n",
    "cv2.imshow(\"90_counter\",dst_90_counter)\n",
    "cv2.waitKey(0)\n",
    "cv2.destroyAllWindows()"
   ]
  },
  {
   "cell_type": "markdown",
   "metadata": {},
   "source": [
    "### Affine 사용"
   ]
  },
  {
   "cell_type": "code",
   "execution_count": 1,
   "metadata": {},
   "outputs": [
    {
     "ename": "NameError",
     "evalue": "name 'winter' is not defined",
     "output_type": "error",
     "traceback": [
      "\u001b[1;31m---------------------------------------------------------------------------\u001b[0m",
      "\u001b[1;31mNameError\u001b[0m                                 Traceback (most recent call last)",
      "Cell \u001b[1;32mIn[1], line 4\u001b[0m\n\u001b[0;32m      1\u001b[0m \u001b[38;5;28;01mimport\u001b[39;00m \u001b[38;5;21;01mcv2\u001b[39;00m\n\u001b[0;32m      3\u001b[0m \u001b[38;5;66;03m# 이미지 파일을 읽어 OpenCV 이미지로 로드 (winter는 이미지 파일 경로)\u001b[39;00m\n\u001b[1;32m----> 4\u001b[0m img \u001b[38;5;241m=\u001b[39m cv2\u001b[38;5;241m.\u001b[39mimread(\u001b[43mwinter\u001b[49m)\n\u001b[0;32m      6\u001b[0m \u001b[38;5;66;03m# 이미지의 중심점 계산 (회전 중심 좌표)\u001b[39;00m\n\u001b[0;32m      7\u001b[0m \u001b[38;5;66;03m# - `img.shape[1]`: 이미지의 너비 (x축 크기)\u001b[39;00m\n\u001b[0;32m      8\u001b[0m \u001b[38;5;66;03m# - `img.shape[0]`: 이미지의 높이 (y축 크기)\u001b[39;00m\n\u001b[0;32m      9\u001b[0m center \u001b[38;5;241m=\u001b[39m (img\u001b[38;5;241m.\u001b[39mshape[\u001b[38;5;241m1\u001b[39m] \u001b[38;5;241m/\u001b[39m \u001b[38;5;241m2\u001b[39m, img\u001b[38;5;241m.\u001b[39mshape[\u001b[38;5;241m0\u001b[39m] \u001b[38;5;241m/\u001b[39m \u001b[38;5;241m2\u001b[39m)\n",
      "\u001b[1;31mNameError\u001b[0m: name 'winter' is not defined"
     ]
    }
   ],
   "source": [
    "import cv2\n",
    "\n",
    "# 이미지 파일을 읽어 OpenCV 이미지로 로드 (winter는 이미지 파일 경로)\n",
    "img = cv2.imread(winter)\n",
    "\n",
    "# 이미지의 중심점 계산 (회전 중심 좌표)\n",
    "# - `img.shape[1]`: 이미지의 너비 (x축 크기)\n",
    "# - `img.shape[0]`: 이미지의 높이 (y축 크기)\n",
    "center = (img.shape[1] / 2, img.shape[0] / 2)\n",
    "\n",
    "# 회전을 위한 변환 행렬 계산\n",
    "# - center: 회전 중심점 좌표\n",
    "# - -45: 회전 각도 (시계 방향으로 45도 회전)\n",
    "# - 1: 스케일 (이미지 크기 유지)\n",
    "affine = cv2.getRotationMatrix2D(center, -45, 1)\n",
    "\n",
    "# 이미지에 변환 행렬 적용 (이미지 회전)\n",
    "# - `affine`: 계산된 변환 행렬\n",
    "# - `(img.shape[1], img.shape[0])`: 결과 이미지 크기 지정 (원본 크기 유지)\n",
    "dst = cv2.warpAffine(img, affine, (img.shape[1], img.shape[0]))\n",
    "\n",
    "# 원본 이미지를 \"Img\" 창에 표시\n",
    "cv2.imshow(\"Img\", img)\n",
    "\n",
    "# 회전된 이미지를 \"Rotate\" 창에 표시\n",
    "cv2.imshow(\"Rotate\", dst)\n",
    "\n",
    "# 키 입력 대기 (사용자가 아무 키나 누를 때까지 프로그램 정지)\n",
    "cv2.waitKey(0)\n",
    "\n",
    "# 모든 OpenCV 창을 닫음\n",
    "cv2.destroyAllWindows()"
   ]
  },
  {
   "cell_type": "code",
   "execution_count": null,
   "metadata": {},
   "outputs": [],
   "source": [
    "import cv2\n",
    "import numpy as np\n",
    "import math\n",
    "\n",
    "img = cv2.imread(\"images/dog.jpg\")\n",
    "rad = 20 * math.pi / 180 \n",
    "affine = np.array([[math.cos(rad), -math.sin(rad), 0],[math.sin(rad), math.cos(rad), 0]], dtype=np.float32)\n",
    "dst = cv2.warpAffine(img, affine, (img.shape[1], img.shape[0]))\n",
    "cv2.imshow(\"rotate\", dst)\n",
    "cv2.waitKey(0)\n",
    "cv2.destroyAllWindows()"
   ]
  }
 ],
 "metadata": {
  "kernelspec": {
   "display_name": "my_cv",
   "language": "python",
   "name": "python3"
  },
  "language_info": {
   "codemirror_mode": {
    "name": "ipython",
    "version": 3
   },
   "file_extension": ".py",
   "mimetype": "text/x-python",
   "name": "python",
   "nbconvert_exporter": "python",
   "pygments_lexer": "ipython3",
   "version": "3.13.1"
  }
 },
 "nbformat": 4,
 "nbformat_minor": 2
}
