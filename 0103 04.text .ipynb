{
 "cells": [
  {
   "cell_type": "markdown",
   "metadata": {},
   "source": [
    "## 04. 텍스트\n",
    "- 한글 입력 지원 X"
   ]
  },
  {
   "cell_type": "markdown",
   "metadata": {},
   "source": [
    "### 4-1. 텍스트 기본(영어)"
   ]
  },
  {
   "cell_type": "code",
   "execution_count": 1,
   "metadata": {},
   "outputs": [],
   "source": [
    "import cv2\n",
    "import numpy as np"
   ]
  },
  {
   "cell_type": "code",
   "execution_count": 5,
   "metadata": {},
   "outputs": [],
   "source": [
    "img = np.zeros((460,640,3),dtype=np.uint8)\n",
    "SCALE = 1 # 글자 크기\n",
    "COLOR = (255,255,255)\n",
    "THICKNESS = 2\n",
    "\n",
    "cv2.putText(img,\"Oh Hae Won\",(100,100),cv2.FONT_HERSHEY_COMPLEX_SMALL,SCALE,COLOR,THICKNESS)\n",
    "cv2.putText(img,\"Seo Jae Won\",(100,200),cv2.FONT_HERSHEY_COMPLEX,SCALE,COLOR,THICKNESS)\n",
    "cv2.putText(img,\"Lee Kyeong June\",(100,300),cv2.FONT_HERSHEY_SCRIPT_COMPLEX,SCALE,COLOR,THICKNESS)\n",
    "\n",
    "cv2.imshow(\"TEXT\",img)\n",
    "cv2.waitKey(0)\n",
    "cv2.destroyAllWindows()"
   ]
  },
  {
   "cell_type": "code",
   "execution_count": 7,
   "metadata": {},
   "outputs": [
    {
     "name": "stdout",
     "output_type": "stream",
     "text": [
      "Collecting pillow\n",
      "  Downloading pillow-11.1.0-cp313-cp313-win_amd64.whl.metadata (9.3 kB)\n",
      "Downloading pillow-11.1.0-cp313-cp313-win_amd64.whl (2.6 MB)\n",
      "   ---------------------------------------- 0.0/2.6 MB ? eta -:--:--\n",
      "   ---------------------------------------- 2.6/2.6 MB 31.6 MB/s eta 0:00:00\n",
      "Installing collected packages: pillow\n",
      "Successfully installed pillow-11.1.0\n",
      "Note: you may need to restart the kernel to use updated packages.\n"
     ]
    }
   ],
   "source": [
    "# ▪ Open CV에서 한글 그리기 지원이 X\n",
    "# • Pillow 라이브러리를 이용하여 우회적인 방법을 사용해야 함\n",
    "%pip install pillow"
   ]
  },
  {
   "cell_type": "markdown",
   "metadata": {},
   "source": [
    "### 4-2. 한글 텍스트 입력"
   ]
  },
  {
   "cell_type": "code",
   "execution_count": 10,
   "metadata": {},
   "outputs": [],
   "source": [
    "from PIL import Image,ImageDraw,ImageFont\n",
    "img = np.zeros((460,640,3),dtype=np.uint8)\n",
    "\n",
    "def putKorText(img,text,pos,font_size,font_color):\n",
    "    img_pil = Image.fromarray(img)\n",
    "    draw = ImageDraw.Draw(img_pil)\n",
    "    font = ImageFont.truetype(\"fonts/gulim.ttc\",font_size)\n",
    "    draw.text(pos,text,font = font,fill=font_color)\n",
    "    return np.array(img_pil)\n",
    "text = putKorText(img,\"나이스\",(100,100),30,(255,255,255)) # 글자 위치, 글자 사이즈, 글자 색깔\n",
    "\n",
    "\n",
    "\n",
    "cv2.imshow(\"text\",text)\n",
    "cv2.waitKey(0)\n",
    "cv2.destroyAllWindows()\n"
   ]
  }
 ],
 "metadata": {
  "kernelspec": {
   "display_name": "my_cv",
   "language": "python",
   "name": "python3"
  },
  "language_info": {
   "codemirror_mode": {
    "name": "ipython",
    "version": 3
   },
   "file_extension": ".py",
   "mimetype": "text/x-python",
   "name": "python",
   "nbconvert_exporter": "python",
   "pygments_lexer": "ipython3",
   "version": "3.13.1"
  }
 },
 "nbformat": 4,
 "nbformat_minor": 2
}
