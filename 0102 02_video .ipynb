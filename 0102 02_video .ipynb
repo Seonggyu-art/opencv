{
 "cells": [
  {
   "cell_type": "markdown",
   "metadata": {},
   "source": [
    "## 02. 비디오 입출력\n",
    "- 비디오의 재생 : 연속된 이미지를 재생하는 것\n",
    "- 프레임 : 연속된 이미지 중 하나\n",
    "- 비디오를 재생하기 위해서는 프레임을 연속적으로 재생해야 함."
   ]
  },
  {
   "cell_type": "markdown",
   "metadata": {},
   "source": [
    "### 2-1. 비디오 파일 입출력\n",
    "- 'cv2.VideoCapture(\"파일경로\")' : 경로의 파일을 불러옴.\n",
    "- 'VideoCapture.isOpened()' : 파일이 열렸는지 확인\n",
    "- 'VideoCapture.read()' : 파일을 읽어서 frame을 반환\n",
    "    - ret: 프레임이 있는지 체크, frame : 불러온 이미지.\n",
    "- 'VideoCapture.release()' : 영상 객체를 해제."
   ]
  },
  {
   "cell_type": "code",
   "execution_count": 2,
   "metadata": {},
   "outputs": [],
   "source": [
    "import cv2\n",
    "dog_video_path = \"0102 vedeos/dog.mp4\""
   ]
  },
  {
   "cell_type": "code",
   "execution_count": null,
   "metadata": {},
   "outputs": [
    {
     "name": "stdout",
     "output_type": "stream",
     "text": [
      "< cv2.VideoCapture 00000211291ADFD0>\n"
     ]
    }
   ],
   "source": [
    "cap = cv2.VideoCapture(\"dog_video_path\") # 의미하는 건 모름\n",
    "print(cap)"
   ]
  },
  {
   "cell_type": "code",
   "execution_count": 20,
   "metadata": {},
   "outputs": [],
   "source": [
    "cap = cv2.VideoCapture(dog_video_path)\n",
    "while cap.isOpened(): # 파일이 실행되는 동안\n",
    "    ret, frame = cap.read()\n",
    "    print(ret, frame) # ret과 프레임의 정보를 받을 수 있음.\n",
    "    if not ret:\n",
    "        break\n",
    "\n",
    "    cv2.imshow(\"Video\", frame)\n",
    "\n",
    "    if cv2.waitKey(1) == ord(\"q\"): # q 입력하면 탈출, 숫자는 속도와 관계가 있는 듯.\n",
    "        break\n",
    "\n",
    "cap.release()  # \n",
    "cv2.destroyAllWindows()\n",
    "# 프레임을 몇초당 계산해서 그 값을 넣으면 원래의 영상의 재생속도로 나타낼 수 있음. "
   ]
  },
  {
   "cell_type": "markdown",
   "metadata": {},
   "source": [
    "### 2-2. 영상의 프레임 불러오기\n",
    "- 'VideoCapture.get(cv2.cap_prop_fps)' : 영상의 정보를 불러올 수 잇음."
   ]
  },
  {
   "cell_type": "code",
   "execution_count": 33,
   "metadata": {},
   "outputs": [
    {
     "name": "stdout",
     "output_type": "stream",
     "text": [
      "30.0\n"
     ]
    }
   ],
   "source": [
    "cap = cv2.VideoCapture(dog_video_path)\n",
    "fps = cap.get(cv2.CAP_PROP_FPS)  # 대문자 조심하기기\n",
    "print(fps)\n",
    "\n",
    "while cap.isOpened():\n",
    "    ret, frame = cap.read()\n",
    "\n",
    "    if not ret:\n",
    "        break\n",
    "\n",
    "    cv2.imshow(\"video\",frame)\n",
    "\n",
    "    if cv2.waitKey(int(1000/fps)) == ord(\"q\"):   # 숫자는 정수가 들어가야하는데, int 넣어주면 됨. \n",
    "        # fps는 1초에 몇 프레임인지, 프레임 하나당의 초를 구하고 싶다. 1초당 프레임의 개수를 구하고 싶다. 이게 fps임.\n",
    "        # \n",
    "        break\n",
    "\n",
    "cap.release()\n",
    "cv2.destroyAllWindows()"
   ]
  },
  {
   "cell_type": "markdown",
   "metadata": {},
   "source": [
    "## 2-3 카메라 입출력"
   ]
  },
  {
   "cell_type": "code",
   "execution_count": 38,
   "metadata": {},
   "outputs": [],
   "source": [
    "cap = cv2.VideoCapture(0)  # 카메라 켜기\n",
    "# print(cap.isOpened()) \n",
    "\n",
    "if not cap.isOpened():\n",
    "    exit()\n",
    "\n",
    "while True: # 계속 재생\n",
    "    ret, frame = cap.read()\n",
    "\n",
    "    if not ret:\n",
    "        break\n",
    "\n",
    "    cv2.imshow(\"Camera\", frame)\n",
    "\n",
    "    if cv2.waitKey(1) == ord(\"q\"):\n",
    "        break\n",
    "\n",
    "cap.release() # 해제\n",
    "cv2.destroyAllWindows()"
   ]
  },
  {
   "cell_type": "markdown",
   "metadata": {},
   "source": [
    "## 2-4. 비디오 쓰기\n",
    "-'cv2.VideoWriter()' : 영상을 쓰기"
   ]
  },
  {
   "cell_type": "code",
   "execution_count": 1,
   "metadata": {},
   "outputs": [
    {
     "ename": "NameError",
     "evalue": "name 'cv2' is not defined",
     "output_type": "error",
     "traceback": [
      "\u001b[1;31m---------------------------------------------------------------------------\u001b[0m",
      "\u001b[1;31mNameError\u001b[0m                                 Traceback (most recent call last)",
      "Cell \u001b[1;32mIn[1], line 1\u001b[0m\n\u001b[1;32m----> 1\u001b[0m cap \u001b[38;5;241m=\u001b[39m \u001b[43mcv2\u001b[49m\u001b[38;5;241m.\u001b[39mVideoCapture(dog_video_path)\n\u001b[0;32m      3\u001b[0m \u001b[38;5;66;03m# videowriter 생성\u001b[39;00m\n\u001b[0;32m      4\u001b[0m fourcc \u001b[38;5;241m=\u001b[39m cv2\u001b[38;5;241m.\u001b[39mVideoWriter_fourcc(\u001b[38;5;241m*\u001b[39m\u001b[38;5;124m\"\u001b[39m\u001b[38;5;124mDIVX\u001b[39m\u001b[38;5;124m\"\u001b[39m) \u001b[38;5;66;03m# *는 하나씩 풀어서 나오게끔 만들어줌.\u001b[39;00m\n",
      "\u001b[1;31mNameError\u001b[0m: name 'cv2' is not defined"
     ]
    }
   ],
   "source": [
    "cap = cv2.VideoCapture(dog_video_path)\n",
    "\n",
    "# videowriter 생성\n",
    "fourcc = cv2.VideoWriter_fourcc(*\"DIVX\") # *는 하나씩 풀어서 나오게끔 만들어줌.\n",
    "fps = cap.get(cv2.CAP_PROP_FPS)\n",
    "width = round(cap.get(cv2.CAP_PROP_FRAME_WIDTH))  # 라운드는 width랑 height는 정수값을 가져야 하기 때문에 반올림 해줌.\n",
    "height = round(cap.get(cv2.CAP_PROP_FRAME_HEIGHT))\n",
    "out = cv2.VideoWriter(\"0102 output/dog.mp4\", fourcc, fps, (width, height)) # 저장할 파일 경로, fourcc는 4글자 \n",
    "# width랑 height는 정수값을 가져야 함.\n",
    "\n",
    "while cap.isOpened():\n",
    "    ret, frame = cap.read()\n",
    "\n",
    "    if not ret:\n",
    "        break\n",
    "\n",
    "    out.write(frame) # 단, 소리는 들어가지 않는다.\n",
    "    cv2.imshow(\"Video\", frame)\n",
    "\n",
    "\n",
    "    if cv2.waitKey(int(1000/fps)) == ord(\"q\"):\n",
    "        break\n",
    "\n",
    "out.release()\n",
    "cap.release()\n",
    "cv2.destroyAllWindows()"
   ]
  },
  {
   "cell_type": "markdown",
   "metadata": {},
   "source": [
    "## 실습2. 웹캠으로 사진 찍기\n",
    "- 오늘 배운 내용을 참고하여, 특정키를 입력할 시 사진이 찍히도록 구현하기"
   ]
  },
  {
   "cell_type": "code",
   "execution_count": 6,
   "metadata": {},
   "outputs": [],
   "source": [
    "# 카메라가 꺼지는 동시에 캡쳐해서 특정 폴더안에 파일을 만들어 내기\n",
    "\n",
    "cap = cv2.VideoCapture(0)  # 카메라 켜기\n",
    "# print(cap.isOpened()) \n",
    "\n",
    "if not cap.isOpened():\n",
    "    exit()\n",
    "\n",
    "while True: # 계속 재생\n",
    "    ret, frame = cap.read()\n",
    "\n",
    "    if not ret:\n",
    "        break\n",
    "    cv2.imshow(\"Camera\", frame)\n",
    "    if cv2.waitKey(1) == ord(\"q\"):  # if cv2.waitKey(1) !=: # 어떤 입력이든 주어졌다.\n",
    "        cv2.imwrite(\"0102 output/human.jpg\",frame)  # jpg는 확장자다.\n",
    "        break\n",
    "\n",
    "cap.release() # 해제\n",
    "cv2.destroyAllWindows()"
   ]
  }
 ],
 "metadata": {
  "kernelspec": {
   "display_name": "my_cv",
   "language": "python",
   "name": "python3"
  },
  "language_info": {
   "codemirror_mode": {
    "name": "ipython",
    "version": 3
   },
   "file_extension": ".py",
   "mimetype": "text/x-python",
   "name": "python",
   "nbconvert_exporter": "python",
   "pygments_lexer": "ipython3",
   "version": "3.13.1"
  }
 },
 "nbformat": 4,
 "nbformat_minor": 2
}
